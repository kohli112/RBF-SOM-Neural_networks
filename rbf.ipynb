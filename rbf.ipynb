{
 "cells": [
  {
   "cell_type": "markdown",
   "metadata": {
    "colab_type": "text",
    "id": "HR8WfoTMyhNT"
   },
   "source": [
    "# Q3"
   ]
  },
  {
   "cell_type": "code",
   "execution_count": 37,
   "metadata": {
    "colab": {},
    "colab_type": "code",
    "id": "d-Th6rfaBM-L"
   },
   "outputs": [],
   "source": [
    "import random\n",
    "import numpy as np\n",
    "import math\n",
    "random.seed(1)\n",
    "import matplotlib.pyplot as plt "
   ]
  },
  {
   "cell_type": "markdown",
   "metadata": {
    "colab_type": "text",
    "id": "WKS7W5a3vJbG"
   },
   "source": [
    "Making the dataset. I randomly take some values between 0, 20 and store them using a set to ensure unique data points. Then I make our final data set which includes the appended labels. "
   ]
  },
  {
   "cell_type": "code",
   "execution_count": 38,
   "metadata": {
    "colab": {
     "base_uri": "https://localhost:8080/",
     "height": 34
    },
    "colab_type": "code",
    "id": "FrMLmLBWCE-8",
    "outputId": "1724b395-f414-4368-8ded-0072f0e7a460"
   },
   "outputs": [
    {
     "name": "stdout",
     "output_type": "stream",
     "text": [
      "441\n"
     ]
    }
   ],
   "source": [
    "data = set()\n",
    "for i in range(21):\n",
    "  for j in range(21):\n",
    "    x = round(-2 +  i*0.2, 2)\n",
    "    y = round(-2 + j*0.2, 2)\n",
    "    data.add((x,y))\n",
    "data_list = list(data)\n",
    "print(len(data_list))\n",
    "data_array = np.array(data_list)"
   ]
  },
  {
   "cell_type": "code",
   "execution_count": 39,
   "metadata": {
    "colab": {},
    "colab_type": "code",
    "id": "h1lsD3U1Ouo5"
   },
   "outputs": [],
   "source": [
    "#Mapping\n",
    "data_mapped = []\n",
    "for point in data_list:\n",
    "    if (point[0]**2) + (point[1]**2) <= 1:\n",
    "        data_mapped.append([point[0], point[1], 1])\n",
    "    else:\n",
    "        data_mapped.append([point[0], point[1], -1])"
   ]
  },
  {
   "cell_type": "markdown",
   "metadata": {
    "colab_type": "text",
    "id": "VTWSJP0owzoR"
   },
   "source": [
    "In the next block, I shuffle my data and then divide it into 80-20 train test split and then take out the labels to use only data for the code."
   ]
  },
  {
   "cell_type": "code",
   "execution_count": 40,
   "metadata": {
    "colab": {},
    "colab_type": "code",
    "id": "i5A4Csf-QnCi"
   },
   "outputs": [],
   "source": [
    "inp = random.sample(data_mapped, len(data_mapped))\n",
    "final_data = np.array(inp)\n",
    "train_size = int(0.8 * len(inp))\n",
    "train_set = final_data[:train_size]\n",
    "test_set = final_data[train_size:]\n",
    "X_train = train_set[:, :2]\n",
    "y_train = train_set[:, 2:]\n",
    "X_test = test_set[:, :2]\n",
    "y_test = test_set[:, 2:]"
   ]
  },
  {
   "cell_type": "markdown",
   "metadata": {
    "colab_type": "text",
    "id": "0kkGZlWIxZ0Y"
   },
   "source": [
    "This next block defines all the required functions. They include the kernel gaussian function calculation, getting interpolation matrix(Weight matrix), getting prediction values, MSE calculation and accuracy calculation. "
   ]
  },
  {
   "cell_type": "code",
   "execution_count": 41,
   "metadata": {
    "colab": {},
    "colab_type": "code",
    "id": "sFtfsokWWf0D"
   },
   "outputs": [],
   "source": [
    "def gaussian_fn(distance, sig):\n",
    "    return np.exp(-(distance)**2 / (2* (sig**2)))\n",
    "\n",
    "def mse(actual, pred):\n",
    "    summation = 0\n",
    "    for i in range(len(pred)):\n",
    "        diff = actual[i] - pred[i]\n",
    "        squared_diff = diff**2\n",
    "        summation = summation + squared_diff\n",
    "    error = summation/len(pred)\n",
    "    return error\n",
    "\n",
    "def calcWeight(X_train, X_cent, sigma):\n",
    "  G = np.zeros((len(X_train), len(X_cent)))\n",
    "  for i in range(len(X_train)):\n",
    "    for j in range(len(X_cent)):\n",
    "      dist = np.linalg.norm(X_train[i] - X_cent[j])\n",
    "      G[i][j] = gaussian_fn(dist, sigma)\n",
    "  G1 = np.linalg.pinv(G)\n",
    "  W = G1.dot(y_train)\n",
    "  y_pred = G.dot(W)\n",
    "  return y_pred, W\n",
    "\n",
    "def pred(X_test, X_t, sigma, W):\n",
    "  g1 = np.zeros((len(X_test), len(X_t)))\n",
    "  for i in range(len(X_test)):\n",
    "    for j in range(len(X_t)):\n",
    "      dist = np.linalg.norm(X_test[i] - X_t[j])\n",
    "      g1[i][j] = gaussian_fn(dist, sigma)  \n",
    "  y_pred_test = g1.dot(W)\n",
    "  return y_pred_test\n",
    "\n",
    "def acc(y_train, y_pred):\n",
    "  acc=np.mean(y_train==np.sign(y_pred))\n",
    "  return round(acc*100, 2)"
   ]
  },
  {
   "cell_type": "markdown",
   "metadata": {
    "colab_type": "text",
    "id": "DW-23unwxzZY"
   },
   "source": [
    "The code blocks below use the functions defined to get the accuracy and error for the different cases as required in the assignment.\n",
    "The training and test accuracies for all the runs can be seen in the output blocks for each case."
   ]
  },
  {
   "cell_type": "markdown",
   "metadata": {
    "colab_type": "text",
    "id": "AabP3ajGbo_i"
   },
   "source": [
    "#1. Using all the points in the training set as Centres"
   ]
  },
  {
   "cell_type": "code",
   "execution_count": 42,
   "metadata": {
    "colab": {
     "base_uri": "https://localhost:8080/",
     "height": 1000
    },
    "colab_type": "code",
    "id": "VbmuGNk1X3y8",
    "outputId": "fc8c6f31-ece3-4c07-eccd-8f36ee75eb74"
   },
   "outputs": [
    {
     "name": "stdout",
     "output_type": "stream",
     "text": [
      "For Sigma =  0.01\n",
      "Train Accuracy:  100.0\n",
      "Test Accuracy:  96.63\n",
      "Train Error:  1.3562748837455712e-30\n",
      "Test Error:  1.0\n",
      "For Sigma =  0.03\n",
      "Train Accuracy:  100.0\n",
      "Test Accuracy:  96.63\n",
      "Train Error:  2.292980676570171e-29\n",
      "Test Error:  0.9999999988304806\n",
      "For Sigma =  0.05\n",
      "Train Accuracy:  100.0\n",
      "Test Accuracy:  96.63\n",
      "Train Error:  5.36851221152538e-30\n",
      "Test Error:  0.9982452499613711\n",
      "For Sigma =  0.1\n",
      "Train Accuracy:  100.0\n",
      "Test Accuracy:  96.63\n",
      "Train Error:  3.659757131048865e-30\n",
      "Test Error:  0.5084299006895513\n",
      "For Sigma =  0.15\n",
      "Train Accuracy:  100.0\n",
      "Test Accuracy:  95.51\n",
      "Train Error:  6.162065382429081e-30\n",
      "Test Error:  0.19056038449875398\n",
      "For Sigma =  0.2\n",
      "Train Accuracy:  100.0\n",
      "Test Accuracy:  92.13\n",
      "Train Error:  2.1985075097545227e-28\n",
      "Test Error:  0.23601981221827836\n",
      "For Sigma =  0.25\n",
      "Train Accuracy:  100.0\n",
      "Test Accuracy:  91.01\n",
      "Train Error:  5.472168944169246e-26\n",
      "Test Error:  0.4633668299771678\n",
      "For Sigma =  0.5\n",
      "Train Accuracy:  100.0\n",
      "Test Accuracy:  67.42\n",
      "Train Error:  3.31927434275721e-09\n",
      "Test Error:  2189.170754624916\n",
      "For Sigma =  0.75\n",
      "Train Accuracy:  100.0\n",
      "Test Accuracy:  87.64\n",
      "Train Error:  0.019766957795747494\n",
      "Test Error:  8.006063669229977\n",
      "For Sigma =  1\n",
      "Train Accuracy:  99.43\n",
      "Test Accuracy:  96.63\n",
      "Train Error:  0.03555256076899902\n",
      "Test Error:  0.21322478174252876\n",
      "For Sigma =  3\n",
      "Train Accuracy:  99.43\n",
      "Test Accuracy:  97.75\n",
      "Train Error:  0.09850951582153687\n",
      "Test Error:  0.1219533120093637\n",
      "For Sigma =  5\n",
      "Train Accuracy:  97.16\n",
      "Test Accuracy:  97.75\n",
      "Train Error:  0.11332492598057797\n",
      "Test Error:  0.12549531895237626\n",
      "For Sigma =  7\n",
      "Train Accuracy:  97.44\n",
      "Test Accuracy:  97.75\n",
      "Train Error:  0.1239298180370993\n",
      "Test Error:  0.12358933047928301\n",
      "For Sigma =  10\n",
      "Train Accuracy:  97.44\n",
      "Test Accuracy:  97.75\n",
      "Train Error:  0.12453988847449761\n",
      "Test Error:  0.1227232079241383\n",
      "For Sigma =  12\n",
      "Train Accuracy:  99.72\n",
      "Test Accuracy:  97.75\n",
      "Train Error:  0.1300897334109653\n",
      "Test Error:  0.12931194265237014\n",
      "For Sigma =  15\n",
      "Train Accuracy:  98.3\n",
      "Test Accuracy:  98.88\n",
      "Train Error:  0.19611170824688545\n",
      "Test Error:  0.17511157229199625\n",
      "For Sigma =  17\n",
      "Train Accuracy:  98.3\n",
      "Test Accuracy:  98.88\n",
      "Train Error:  0.19634673055846655\n",
      "Test Error:  0.17537421481377483\n",
      "For Sigma =  20\n",
      "Train Accuracy:  98.3\n",
      "Test Accuracy:  98.88\n",
      "Train Error:  0.19657904040811694\n",
      "Test Error:  0.17546024056821224\n",
      "For Sigma =  25\n",
      "Train Accuracy:  98.58\n",
      "Test Accuracy:  98.88\n",
      "Train Error:  0.1969381147094034\n",
      "Test Error:  0.17462419429362303\n",
      "For Sigma =  30\n",
      "Train Accuracy:  98.3\n",
      "Test Accuracy:  98.88\n",
      "Train Error:  0.1970404766247653\n",
      "Test Error:  0.17459397047844433\n",
      "For Sigma =  35\n",
      "Train Accuracy:  98.3\n",
      "Test Accuracy:  98.88\n",
      "Train Error:  0.19710989254897207\n",
      "Test Error:  0.17467968598050013\n"
     ]
    }
   ],
   "source": [
    "sigmas = [0.01, 0.03, 0.05, 0.1, 0.15, 0.2, 0.25, 0.5, 0.75, 1, 3, 5, 7, 10, 12, 15, 17, 20, 25, 30, 35]\n",
    "train_accuracy = []\n",
    "test_accuracy = []\n",
    "train_error = []\n",
    "test_error = []\n",
    "for sigma in sigmas:\n",
    "  print(\"For Sigma = \", sigma)\n",
    "  y_pred, W = calcWeight(X_train, X_train, sigma)\n",
    "  y_pred_test = pred(X_test, X_train, sigma, W)\n",
    "  print(\"Train Accuracy: \", (acc(y_train, y_pred)))\n",
    "  print(\"Test Accuracy: \", acc(y_test, y_pred_test))\n",
    "  print(\"Train Error: \", mse(y_train, y_pred)[0])\n",
    "  print(\"Test Error: \", mse(y_test, y_pred_test)[0])\n",
    "  train_accuracy.append(acc(y_train, y_pred))\n",
    "  test_accuracy.append(acc(y_test, y_pred_test))\n",
    "  train_error.append(mse(y_train, y_pred)[0])\n",
    "  test_error.append(mse(y_test, y_pred_test)[0])"
   ]
  },
  {
   "cell_type": "code",
   "execution_count": 43,
   "metadata": {
    "colab": {
     "base_uri": "https://localhost:8080/",
     "height": 295
    },
    "colab_type": "code",
    "id": "kXJ9NT27FbRP",
    "outputId": "6b7a447c-b7d2-4395-ce50-49f86bbfca61"
   },
   "outputs": [
    {
     "data": {
      "image/png": "[encoded data removed]",
      "text/plain": [
       "<Figure size 432x288 with 1 Axes>"
      ]
     },
     "metadata": {
      "needs_background": "light",
      "tags": []
     },
     "output_type": "display_data"
    }
   ],
   "source": [
    "plt.plot(sigmas, train_accuracy, 'g', label='Training accuracy')\n",
    "plt.plot(sigmas, test_accuracy, 'b', label='Test accuracy')\n",
    "plt.title('Training and Test accuracy with 80% of points used as Centres')\n",
    "plt.xlabel('Spread Parameter (Sigma)')\n",
    "plt.ylabel('Accuracy (%)')\n",
    "plt.legend()\n",
    "plt.show()"
   ]
  },
  {
   "cell_type": "markdown",
   "metadata": {
    "colab_type": "text",
    "id": "bN_fr8K2bhNP"
   },
   "source": [
    "\n",
    "For the analysis, we will use Accuracy as a metric for performance.\n",
    "From the above graph, we see that training accuracy remains high for almost all the sigmas and it gets stable at sigma = 15. While, test accuracy starts off pretty good, it sees at sigma = 0.5 and 0.75 and then again goes up while stabling at 98.87% beyond sigma = 15.\n",
    "This maybe because for low values of sigmas, we observe little or no overlap of gaussian functions of different data points. Thus, all the centres are correctly identifying the input data which are the centres itself and hence we observe a training accuracy of almost 100%. This leads to overfitting on the training set and hence we see that for sigma = 0.5 and 0.75, the test accuracy goes down significantly.\n",
    "In the general notion, a large spread parameter implies less senstivity i.e. the kernel is more sensitive to data points that are near the centre (small sigma value) and as we go further away from centres (large sigma value) the senstivity decreases. Thus, we see a negligible decrease (around 2%) in training accuracy because the kernel function becomes less sensitive to data points but the accuracy remains pretty high as the centres are the data points itself and thus they classify the data points pretty accurately. The test accuracy seems to increase and then become stable after sigma = 15.\n",
    "Looking at the test accuracies, we will choose sigma = 15. The testing accuracy remains stable after this point. Choosing sigma = 15 ensures that value of sigma is neither too high nor too low."
   ]
  },
  {
   "cell_type": "markdown",
   "metadata": {
    "colab_type": "text",
    "id": "sCdaHAVwA9Z9"
   },
   "source": [
    "# 2a). Using Random 150 Nodes as Centres\n"
   ]
  },
  {
   "cell_type": "code",
   "execution_count": 44,
   "metadata": {
    "colab": {},
    "colab_type": "code",
    "id": "zzRvX-N-5twy"
   },
   "outputs": [],
   "source": [
    "train_set_list = list(train_set)\n",
    "centres_list = random.choices(train_set_list, k=150)\n",
    "centres = np.array(centres_list)\n",
    "centres.shape\n",
    "X_t = centres[:, :2]\n",
    "y_t = centres[:, 2:]\n",
    "#print(X_t.shape, y_t.shape)"
   ]
  },
  {
   "cell_type": "code",
   "execution_count": 45,
   "metadata": {
    "colab": {
     "base_uri": "https://localhost:8080/",
     "height": 84
    },
    "colab_type": "code",
    "id": "XY6ydOTq_qBX",
    "outputId": "2a99bbc6-2897-4a92-b5a0-8ad0dcdbc445"
   },
   "outputs": [
    {
     "name": "stdout",
     "output_type": "stream",
     "text": [
      "Train Accuracy:  98.3\n",
      "Test Accuracy:  98.88\n",
      "Train Error: 0.19611863321444545\n",
      "Test Error: 0.1750342479570414\n"
     ]
    }
   ],
   "source": [
    "sigma = 15\n",
    "y_pred_rand, W1 = calcWeight(X_train, X_t, sigma)\n",
    "y_pred_test_rand = pred(X_test, X_t, sigma, W1)\n",
    "print(\"Train Accuracy: \", acc(y_train, y_pred_rand))  \n",
    "print(\"Test Accuracy: \", acc(y_test, y_pred_test_rand))\n",
    "mse_train_rand = mse(y_train, y_pred_rand)[0]\n",
    "mse_test_rand = mse(y_test, y_pred_test_rand)[0]\n",
    "print(\"Train Error: \" + str(mse_train_rand))\n",
    "print(\"Test Error: \" + str(mse_test_rand))"
   ]
  },
  {
   "cell_type": "markdown",
   "metadata": {
    "colab_type": "text",
    "id": "8pEbJwBbA0cb"
   },
   "source": [
    "# 2b). Using K-Means to get 150 Centres\n"
   ]
  },
  {
   "cell_type": "code",
   "execution_count": 46,
   "metadata": {
    "colab": {},
    "colab_type": "code",
    "id": "zPTNHRGI5yxv"
   },
   "outputs": [],
   "source": [
    "from sklearn.cluster import KMeans\n",
    "\n",
    "clf = KMeans(n_clusters = 150)\n",
    "clf.fit(X_train)\n",
    "cent = clf.cluster_centers_\n",
    "cent.shape\n",
    "X_cent = cent"
   ]
  },
  {
   "cell_type": "code",
   "execution_count": 47,
   "metadata": {
    "colab": {
     "base_uri": "https://localhost:8080/",
     "height": 84
    },
    "colab_type": "code",
    "id": "dn_k96SlX-b5",
    "outputId": "0bd2c47b-ca8c-4175-f73b-23521ce33c21"
   },
   "outputs": [
    {
     "name": "stdout",
     "output_type": "stream",
     "text": [
      "Train Accuracy:  98.3\n",
      "Test Accuracy:  98.88\n",
      "Train Error: 0.19611751738585168\n",
      "Test Error: 0.17505316171292534\n"
     ]
    }
   ],
   "source": [
    "sigma = 15\n",
    "y_pred_kmeans, W2 = calcWeight(X_train, X_cent, sigma)\n",
    "y_pred_test_kmeans = pred(X_test, X_cent, sigma, W2)\n",
    "print(\"Train Accuracy: \", acc(y_train, y_pred_kmeans))  \n",
    "print(\"Test Accuracy: \", acc(y_test, y_pred_test_kmeans))\n",
    "mse_train_kmeans = mse(y_train, y_pred_kmeans)[0]\n",
    "mse_test_kmeans = mse(y_test, y_pred_test_kmeans)[0]\n",
    "print(\"Train Error: \" + str(mse_train_kmeans))\n",
    "print(\"Test Error: \" + str(mse_test_kmeans))"
   ]
  },
  {
   "cell_type": "markdown",
   "metadata": {
    "colab_type": "text",
    "id": "I2AARlJ0tLnM"
   },
   "source": [
    "### Comparing Outputs from part 1 to part 2 a) and 2 b)\n",
    "\n",
    "We see that accuracies are almost identical in parts 1 and 2. In general, for a particular data, a specific number of neurons in hidden layer are enough to represent whole of the data in RBFN. In our case, the similar accuracies may be due to the fact that the number of neurons needed in the hidden cell is an arbitrary number  which can be less than 150 too which we have not explored in this analysis. But, from the findings, we can make a point that 150 nodes in the hidden layer are sufficient to map all of the data points. Thus, taking any number of nodes greater than 150 for our hidden layer will not benefit us as we will get similar accuracies as we already can map all the data through these 150 centres. The errors reported are also quite similar and we see negligible difference in the errors. "
   ]
  }
 ],
 "metadata": {
  "colab": {
   "collapsed_sections": [],
   "name": "Untitled5.ipynb",
   "provenance": [],
   "toc_visible": true
  },
  "kernelspec": {
   "display_name": "Python 3",
   "language": "python",
   "name": "python3"
  },
  "language_info": {
   "codemirror_mode": {
    "name": "ipython",
    "version": 3
   },
   "file_extension": ".py",
   "mimetype": "text/x-python",
   "name": "python",
   "nbconvert_exporter": "python",
   "pygments_lexer": "ipython3",
   "version": "3.7.3"
  }
 },
 "nbformat": 4,
 "nbformat_minor": 1
}
